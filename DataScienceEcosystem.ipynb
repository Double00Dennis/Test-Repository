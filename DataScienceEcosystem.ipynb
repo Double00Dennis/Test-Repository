{
 "cells": [
  {
   "cell_type": "markdown",
   "id": "5f47dbac-cb13-43a8-b1c4-cd8bfdd2bf43",
   "metadata": {},
   "source": [
    "# Data Science Tools and Ecosystem"
   ]
  },
  {
   "cell_type": "markdown",
   "id": "5187a77f-ff18-4b9b-afaa-fafb07c687d8",
   "metadata": {},
   "source": [
    "In this notebook, Data Science Tools and Ecosystem are summarized."
   ]
  },
  {
   "cell_type": "markdown",
   "id": "98371ab1-45c7-4be9-86d7-19a09b0abac2",
   "metadata": {},
   "source": [
    "__Objectives:__\n",
    "* List  of popular languages for Data Science\n",
    "* List of commonly used libraries for Data Science \n",
    "* Arithmetic expressions"
   ]
  },
  {
   "cell_type": "markdown",
   "id": "3009d1cf-69d0-4df2-a206-f345005096c3",
   "metadata": {},
   "source": [
    "Some of the popular languages that Data Scientists use are:\n",
    "1. Python\n",
    "2. R\n",
    "3. SQL\n",
    "4. Scala\n",
    "5. Java"
   ]
  },
  {
   "cell_type": "markdown",
   "id": "0714f965-2b0f-47d7-a54f-551436fea9c4",
   "metadata": {},
   "source": [
    "Some of the commonly used libraries used by Data Scientists include:\n",
    "1. Pandas\n",
    "2. NumPy\n",
    "3. SciPy"
   ]
  },
  {
   "attachments": {},
   "cell_type": "markdown",
   "id": "2c7c8016-35c0-40b1-a533-dce1cd4768f6",
   "metadata": {},
   "source": [
    "| Data Science Tools |\n",
    "\n",
    "| Jupyter |\n",
    "| RStudio |\n",
    "| Apache Spark |"
   ]
  },
  {
   "cell_type": "markdown",
   "id": "45a10931-d664-4973-b113-949757592258",
   "metadata": {},
   "source": [
    "### Below are a few examples of evaluating arithmetic expressions in Python"
   ]
  },
  {
   "cell_type": "markdown",
   "id": "3704f086-a303-427f-ab7f-a0759e1fdfb0",
   "metadata": {},
   "source": [
    "This a simple arithmetic expression to multiply then add integers"
   ]
  },
  {
   "cell_type": "code",
   "execution_count": 3,
   "id": "7c44730b-842e-4f1a-80f0-4b0e8a93d12c",
   "metadata": {},
   "outputs": [
    {
     "data": {
      "text/plain": [
       "17"
      ]
     },
     "execution_count": 3,
     "metadata": {},
     "output_type": "execute_result"
    }
   ],
   "source": [
    "(3*4)+5"
   ]
  },
  {
   "cell_type": "markdown",
   "id": "ed8073dc-240e-4468-a17e-e10516366531",
   "metadata": {},
   "source": [
    "This will convert 200 minutes to hours by diving by 60"
   ]
  },
  {
   "cell_type": "code",
   "execution_count": 16,
   "id": "17757c33-2cb0-466b-9468-2a3665e4ca39",
   "metadata": {},
   "outputs": [
    {
     "data": {
      "text/plain": [
       "3.3333333333333335"
      ]
     },
     "execution_count": 16,
     "metadata": {},
     "output_type": "execute_result"
    }
   ],
   "source": [
    "200/60"
   ]
  },
  {
   "cell_type": "markdown",
   "id": "761d58b2-ded5-4565-816a-e8fa3322dd94",
   "metadata": {},
   "source": [
    "## Author\n",
    "Dennis Salgado"
   ]
  }
 ],
 "metadata": {
  "kernelspec": {
   "display_name": "Python",
   "language": "python",
   "name": "conda-env-python-py"
  },
  "language_info": {
   "codemirror_mode": {
    "name": "ipython",
    "version": 3
   },
   "file_extension": ".py",
   "mimetype": "text/x-python",
   "name": "python",
   "nbconvert_exporter": "python",
   "pygments_lexer": "ipython3",
   "version": "3.7.12"
  }
 },
 "nbformat": 4,
 "nbformat_minor": 5
}
