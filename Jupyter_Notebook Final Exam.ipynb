{
 "cells": [
  {
   "cell_type": "markdown",
   "metadata": {},
   "source": [
    "# My Jupyter Notebook on IBM Watson Studio"
   ]
  },
  {
   "cell_type": "markdown",
   "metadata": {},
   "source": [
    "__Dennis Salgado__\n",
    "\n",
    "Sports Statistician"
   ]
  },
  {
   "cell_type": "markdown",
   "metadata": {},
   "source": [
    "_I'm interested in data science because it is a job that is in high demand. Also because I love sports and would love to help a team in the field of analytics._"
   ]
  },
  {
   "cell_type": "markdown",
   "metadata": {},
   "source": [
    "### The Code below is calculating 5 times 5, equalling to 25. "
   ]
  },
  {
   "cell_type": "code",
   "execution_count": 2,
   "metadata": {},
   "outputs": [
    {
     "data": {
      "text/plain": [
       "25"
      ]
     },
     "execution_count": 2,
     "metadata": {},
     "output_type": "execute_result"
    }
   ],
   "source": [
    "5 * 5"
   ]
  },
  {
   "cell_type": "markdown",
   "metadata": {},
   "source": [
    "Skateboard Parts List\n",
    "* Deck\n",
    "* Trucks\n",
    "* wheels\n",
    "* Bearings \n",
    "* Hardware\n",
    "\n",
    "Favorite Anime List\n",
    "1. Naruto\n",
    "2. Jujutsu Kaisen\n",
    "3. One Piece \n",
    "4. Bleach\n",
    "5. Deagon Ball Z\n",
    "\n",
    "Player | AVG | Year\n",
    "--- | --- | ---\n",
    "Lindor | .270 | 2022\n",
    "Alonso | .271 | 2022\n",
    "McNeil | .326 | 2022"
   ]
  }
 ],
 "metadata": {
  "kernelspec": {
   "display_name": "Python",
   "language": "python",
   "name": "conda-env-python-py"
  },
  "language_info": {
   "codemirror_mode": {
    "name": "ipython",
    "version": 3
   },
   "file_extension": ".py",
   "mimetype": "text/x-python",
   "name": "python",
   "nbconvert_exporter": "python",
   "pygments_lexer": "ipython3",
   "version": "3.7.12"
  }
 },
 "nbformat": 4,
 "nbformat_minor": 4
}
